{
 "cells": [
  {
   "cell_type": "code",
   "execution_count": 19,
   "id": "c9a5886a-59aa-49cf-ae91-8f75a528322d",
   "metadata": {},
   "outputs": [],
   "source": [
    "import pandas as pd\n",
    "from sklearn.model_selection import train_test_split\n",
    "from sklearn.feature_extraction.text import TfidfVectorizer\n",
    "from sklearn.linear_model import LogisticRegression\n",
    "from sklearn.metrics import classification_report"
   ]
  },
  {
   "cell_type": "code",
   "execution_count": 20,
   "id": "c9fede2c-42e0-4975-8f98-a6b279a55873",
   "metadata": {},
   "outputs": [
    {
     "data": {
      "text/html": [
       "<div>\n",
       "<style scoped>\n",
       "    .dataframe tbody tr th:only-of-type {\n",
       "        vertical-align: middle;\n",
       "    }\n",
       "\n",
       "    .dataframe tbody tr th {\n",
       "        vertical-align: top;\n",
       "    }\n",
       "\n",
       "    .dataframe thead th {\n",
       "        text-align: right;\n",
       "    }\n",
       "</style>\n",
       "<table border=\"1\" class=\"dataframe\">\n",
       "  <thead>\n",
       "    <tr style=\"text-align: right;\">\n",
       "      <th></th>\n",
       "      <th>#AUTHID</th>\n",
       "      <th>TEXT</th>\n",
       "      <th>cEXT</th>\n",
       "      <th>cNEU</th>\n",
       "      <th>cAGR</th>\n",
       "      <th>cCON</th>\n",
       "      <th>cOPN</th>\n",
       "    </tr>\n",
       "  </thead>\n",
       "  <tbody>\n",
       "    <tr>\n",
       "      <th>0</th>\n",
       "      <td>1997_504851.txt</td>\n",
       "      <td>Well, right now I just woke up from a mid-day ...</td>\n",
       "      <td>n</td>\n",
       "      <td>y</td>\n",
       "      <td>y</td>\n",
       "      <td>n</td>\n",
       "      <td>y</td>\n",
       "    </tr>\n",
       "    <tr>\n",
       "      <th>1</th>\n",
       "      <td>1997_605191.txt</td>\n",
       "      <td>Well, here we go with the stream of consciousn...</td>\n",
       "      <td>n</td>\n",
       "      <td>n</td>\n",
       "      <td>y</td>\n",
       "      <td>n</td>\n",
       "      <td>n</td>\n",
       "    </tr>\n",
       "    <tr>\n",
       "      <th>2</th>\n",
       "      <td>1997_687252.txt</td>\n",
       "      <td>An open keyboard and buttons to push. The thin...</td>\n",
       "      <td>n</td>\n",
       "      <td>y</td>\n",
       "      <td>n</td>\n",
       "      <td>y</td>\n",
       "      <td>y</td>\n",
       "    </tr>\n",
       "    <tr>\n",
       "      <th>3</th>\n",
       "      <td>1997_568848.txt</td>\n",
       "      <td>I can't believe it!  It's really happening!  M...</td>\n",
       "      <td>y</td>\n",
       "      <td>n</td>\n",
       "      <td>y</td>\n",
       "      <td>y</td>\n",
       "      <td>n</td>\n",
       "    </tr>\n",
       "    <tr>\n",
       "      <th>4</th>\n",
       "      <td>1997_688160.txt</td>\n",
       "      <td>Well, here I go with the good old stream of co...</td>\n",
       "      <td>y</td>\n",
       "      <td>n</td>\n",
       "      <td>y</td>\n",
       "      <td>n</td>\n",
       "      <td>y</td>\n",
       "    </tr>\n",
       "  </tbody>\n",
       "</table>\n",
       "</div>"
      ],
      "text/plain": [
       "           #AUTHID                                               TEXT cEXT  \\\n",
       "0  1997_504851.txt  Well, right now I just woke up from a mid-day ...    n   \n",
       "1  1997_605191.txt  Well, here we go with the stream of consciousn...    n   \n",
       "2  1997_687252.txt  An open keyboard and buttons to push. The thin...    n   \n",
       "3  1997_568848.txt  I can't believe it!  It's really happening!  M...    y   \n",
       "4  1997_688160.txt  Well, here I go with the good old stream of co...    y   \n",
       "\n",
       "  cNEU cAGR cCON cOPN  \n",
       "0    y    y    n    y  \n",
       "1    n    y    n    n  \n",
       "2    y    n    y    y  \n",
       "3    n    y    y    n  \n",
       "4    n    y    n    y  "
      ]
     },
     "execution_count": 20,
     "metadata": {},
     "output_type": "execute_result"
    }
   ],
   "source": [
    "df = pd.read_csv('essays.csv', encoding='latin1')\n",
    "df.head()"
   ]
  },
  {
   "cell_type": "code",
   "execution_count": 21,
   "id": "fa06694d-b3ad-440c-bda4-eb3106e13fca",
   "metadata": {},
   "outputs": [],
   "source": [
    "# Split the dataset into training and testing sets\n",
    "X_train, X_test, y_train, y_test = train_test_split(df['TEXT'], df[['cEXT', 'cNEU', 'cAGR', 'cCON', 'cOPN']], test_size=0.2, random_state=42)\n"
   ]
  },
  {
   "cell_type": "code",
   "execution_count": 22,
   "id": "afe79290-b461-49cb-8fdc-c4a7f9d51167",
   "metadata": {},
   "outputs": [],
   "source": [
    "# Preprocess the text data\n",
    "tfidf_vectorizer = TfidfVectorizer()\n",
    "X_train_tfidf = tfidf_vectorizer.fit_transform(X_train)\n",
    "X_test_tfidf = tfidf_vectorizer.transform(X_test)"
   ]
  },
  {
   "cell_type": "code",
   "execution_count": 23,
   "id": "b4d9e361-964b-471e-8c77-c69ba8a3ffac",
   "metadata": {},
   "outputs": [],
   "source": [
    "# Train a logistic regression model for each personality trait\n",
    "models = {}\n",
    "for trait in ['cEXT', 'cNEU', 'cAGR', 'cCON', 'cOPN']:\n",
    "    model = LogisticRegression()\n",
    "    model.fit(X_train_tfidf, y_train[trait])\n",
    "    models[trait] = model\n"
   ]
  },
  {
   "cell_type": "code",
   "execution_count": 24,
   "id": "c4fdf2b5-76cb-4d05-bf97-0c5b70689641",
   "metadata": {},
   "outputs": [],
   "source": [
    "# Evaluate the models\n",
    "results = {}\n",
    "for trait, model in models.items():\n",
    "    y_pred = model.predict(X_test_tfidf)\n",
    "    results[trait] = classification_report(y_test[trait], y_pred)"
   ]
  },
  {
   "cell_type": "code",
   "execution_count": 25,
   "id": "a29ec6ce-56a9-43ed-9546-0ea8b4ef9bd2",
   "metadata": {},
   "outputs": [
    {
     "name": "stdout",
     "output_type": "stream",
     "text": [
      "Classification Report for cEXT:\n",
      "              precision    recall  f1-score   support\n",
      "\n",
      "           n       0.50      0.48      0.49       227\n",
      "           y       0.57      0.60      0.59       267\n",
      "\n",
      "    accuracy                           0.54       494\n",
      "   macro avg       0.54      0.54      0.54       494\n",
      "weighted avg       0.54      0.54      0.54       494\n",
      "\n",
      "Classification Report for cNEU:\n",
      "              precision    recall  f1-score   support\n",
      "\n",
      "           n       0.63      0.57      0.60       260\n",
      "           y       0.57      0.63      0.60       234\n",
      "\n",
      "    accuracy                           0.60       494\n",
      "   macro avg       0.60      0.60      0.60       494\n",
      "weighted avg       0.60      0.60      0.60       494\n",
      "\n",
      "Classification Report for cAGR:\n",
      "              precision    recall  f1-score   support\n",
      "\n",
      "           n       0.49      0.38      0.42       220\n",
      "           y       0.58      0.68      0.62       274\n",
      "\n",
      "    accuracy                           0.54       494\n",
      "   macro avg       0.53      0.53      0.52       494\n",
      "weighted avg       0.54      0.54      0.53       494\n",
      "\n",
      "Classification Report for cCON:\n",
      "              precision    recall  f1-score   support\n",
      "\n",
      "           n       0.52      0.52      0.52       227\n",
      "           y       0.59      0.58      0.58       267\n",
      "\n",
      "    accuracy                           0.55       494\n",
      "   macro avg       0.55      0.55      0.55       494\n",
      "weighted avg       0.56      0.55      0.55       494\n",
      "\n",
      "Classification Report for cOPN:\n",
      "              precision    recall  f1-score   support\n",
      "\n",
      "           n       0.58      0.59      0.59       237\n",
      "           y       0.62      0.60      0.61       257\n",
      "\n",
      "    accuracy                           0.60       494\n",
      "   macro avg       0.60      0.60      0.60       494\n",
      "weighted avg       0.60      0.60      0.60       494\n",
      "\n"
     ]
    }
   ],
   "source": [
    "# Print the results\n",
    "for trait, result in results.items():\n",
    "    print(f\"Classification Report for {trait}:\")\n",
    "    print(result)"
   ]
  },
  {
   "cell_type": "code",
   "execution_count": 26,
   "id": "1b96db2e-b545-4011-9b2b-5f83a445c1d2",
   "metadata": {},
   "outputs": [
    {
     "name": "stdout",
     "output_type": "stream",
     "text": [
      "Accuracy for cEXT: 0.5445344129554656\n",
      "Accuracy for cNEU: 0.5991902834008097\n",
      "Accuracy for cAGR: 0.5445344129554656\n",
      "Accuracy for cCON: 0.5546558704453441\n",
      "Accuracy for cOPN: 0.5991902834008097\n"
     ]
    }
   ],
   "source": [
    "from sklearn.metrics import accuracy_score\n",
    "\n",
    "# Initialize a dictionary to store accuracies\n",
    "accuracies = {}\n",
    "\n",
    "# Calculate accuracy for each trait\n",
    "for trait, model in models.items():\n",
    "    y_pred = model.predict(X_test_tfidf)\n",
    "    acc = accuracy_score(y_test[trait], y_pred)\n",
    "    accuracies[trait] = acc\n",
    "\n",
    "# Print accuracies\n",
    "for trait, acc in accuracies.items():\n",
    "    print(f\"Accuracy for {trait}: {acc}\")"
   ]
  },
  {
   "cell_type": "code",
   "execution_count": null,
   "id": "c72005f4-721a-455c-8d34-beb7aea63080",
   "metadata": {},
   "outputs": [],
   "source": []
  }
 ],
 "metadata": {
  "kernelspec": {
   "display_name": "Python 3 (ipykernel)",
   "language": "python",
   "name": "python3"
  },
  "language_info": {
   "codemirror_mode": {
    "name": "ipython",
    "version": 3
   },
   "file_extension": ".py",
   "mimetype": "text/x-python",
   "name": "python",
   "nbconvert_exporter": "python",
   "pygments_lexer": "ipython3",
   "version": "3.11.7"
  }
 },
 "nbformat": 4,
 "nbformat_minor": 5
}
